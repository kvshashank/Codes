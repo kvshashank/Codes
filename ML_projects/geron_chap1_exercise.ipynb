{
 "cells": [
  {
   "cell_type": "markdown",
   "id": "e8656a29-58e9-40ec-aa3f-74d53bc90055",
   "metadata": {},
   "source": [
    "## Get housing data"
   ]
  },
  {
   "cell_type": "code",
   "execution_count": 5,
   "id": "65201741-ac8e-4e70-8bd6-55ac05e864a5",
   "metadata": {},
   "outputs": [
    {
     "name": "stdout",
     "output_type": "stream",
     "text": [
      "   longitude  latitude  housing_median_age  total_rooms  total_bedrooms  \\\n",
      "0    -122.23     37.88                41.0        880.0           129.0   \n",
      "1    -122.22     37.86                21.0       7099.0          1106.0   \n",
      "2    -122.24     37.85                52.0       1467.0           190.0   \n",
      "3    -122.25     37.85                52.0       1274.0           235.0   \n",
      "4    -122.25     37.85                52.0       1627.0           280.0   \n",
      "\n",
      "   population  households  median_income  median_house_value ocean_proximity  \n",
      "0       322.0       126.0         8.3252            452600.0        NEAR BAY  \n",
      "1      2401.0      1138.0         8.3014            358500.0        NEAR BAY  \n",
      "2       496.0       177.0         7.2574            352100.0        NEAR BAY  \n",
      "3       558.0       219.0         5.6431            341300.0        NEAR BAY  \n",
      "4       565.0       259.0         3.8462            342200.0        NEAR BAY  \n"
     ]
    }
   ],
   "source": [
    "import pandas as pd\n",
    "import numpy as np\n",
    "import os\n",
    "\n",
    "base_dir = os.getcwd()\n",
    "data_dir = base_dir + \"/housing/\"\n",
    "os.chdir(data_dir)\n",
    "\n",
    "housing = pd.read_csv(\"housing.csv\", header=0)\n",
    "os.chdir(base_dir)\n",
    "print(housing.head())"
   ]
  },
  {
   "cell_type": "code",
   "execution_count": 8,
   "id": "e035f2cc-6448-4db4-b771-ff5456bc6c93",
   "metadata": {},
   "outputs": [
    {
     "name": "stdout",
     "output_type": "stream",
     "text": [
      "<class 'pandas.core.frame.DataFrame'>\n",
      "RangeIndex: 20640 entries, 0 to 20639\n",
      "Data columns (total 10 columns):\n",
      " #   Column              Non-Null Count  Dtype  \n",
      "---  ------              --------------  -----  \n",
      " 0   longitude           20640 non-null  float64\n",
      " 1   latitude            20640 non-null  float64\n",
      " 2   housing_median_age  20640 non-null  float64\n",
      " 3   total_rooms         20640 non-null  float64\n",
      " 4   total_bedrooms      20433 non-null  float64\n",
      " 5   population          20640 non-null  float64\n",
      " 6   households          20640 non-null  float64\n",
      " 7   median_income       20640 non-null  float64\n",
      " 8   median_house_value  20640 non-null  float64\n",
      " 9   ocean_proximity     20640 non-null  object \n",
      "dtypes: float64(9), object(1)\n",
      "memory usage: 1.6+ MB\n",
      "None\n"
     ]
    }
   ],
   "source": [
    "print(housing.info())"
   ]
  },
  {
   "cell_type": "markdown",
   "id": "4f5f3841-4fe9-4f99-ad3f-38b004570df9",
   "metadata": {},
   "source": [
    "## Missing value imputation for numeric and categorical features"
   ]
  },
  {
   "cell_type": "code",
   "execution_count": 18,
   "id": "2e486c09-88fa-48df-a046-adbe8c270f33",
   "metadata": {},
   "outputs": [],
   "source": [
    "from sklearn.impute import SimpleImputer\n",
    "\n",
    "numeric_imputer = SimpleImputer(strategy = \"median\")\n",
    "categorical_imputer = SimpleImputer(strategy = \"most_frequent\")\n",
    "\n",
    "housing_num = housing.select_dtypes(include=\"float64\")\n",
    "housing_cat = housing.select_dtypes(include=\"object\")\n",
    "\n",
    "housing_num = pd.DataFrame(numeric_imputer.fit_transform(housing_num), columns=housing_num.columns, index=housing_num.index)\n",
    "housing_cat = pd.DataFrame(categorical_imputer.fit_transform(housing_cat), columns=housing_cat.columns, index=housing_cat.index)"
   ]
  },
  {
   "cell_type": "markdown",
   "id": "51611e4b-8115-4d4f-80e1-7e3c67e6b83f",
   "metadata": {},
   "source": [
    "## One hot encode the categorical feature"
   ]
  },
  {
   "cell_type": "code",
   "execution_count": 39,
   "id": "f9f8f66f-8bca-43f2-b5e6-b789d702a76a",
   "metadata": {},
   "outputs": [],
   "source": [
    "from sklearn.preprocessing import OneHotEncoder\n",
    "\n",
    "ohe = OneHotEncoder()\n",
    "onehot_encoded = ohe.fit_transform(housing_cat).toarray()\n",
    "\n",
    "ohe_column_names = []\n",
    "for i in ohe.categories_[0]:\n",
    "  ohe_column_names.append(housing_cat.columns[0] + \"_\" + i)\n",
    "\n",
    "onehot_encoded_df = pd.DataFrame(onehot_encoded, index=housing_cat.index, columns=ohe_column_names)"
   ]
  },
  {
   "cell_type": "markdown",
   "id": "671e9936-b693-4e68-9f9e-9795268cc85c",
   "metadata": {},
   "source": [
    "## Calculate new ratios"
   ]
  },
  {
   "cell_type": "code",
   "execution_count": null,
   "id": "732d1597-faa6-4547-a5d1-d776d60f7fe7",
   "metadata": {},
   "outputs": [],
   "source": []
  }
 ],
 "metadata": {
  "kernelspec": {
   "display_name": "Python 3 (ipykernel)",
   "language": "python",
   "name": "python3"
  },
  "language_info": {
   "codemirror_mode": {
    "name": "ipython",
    "version": 3
   },
   "file_extension": ".py",
   "mimetype": "text/x-python",
   "name": "python",
   "nbconvert_exporter": "python",
   "pygments_lexer": "ipython3",
   "version": "3.11.7"
  }
 },
 "nbformat": 4,
 "nbformat_minor": 5
}
