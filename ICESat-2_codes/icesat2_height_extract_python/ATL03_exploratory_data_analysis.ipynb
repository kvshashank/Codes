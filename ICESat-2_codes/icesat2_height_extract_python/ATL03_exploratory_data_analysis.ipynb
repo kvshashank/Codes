{
 "cells": [
  {
   "cell_type": "code",
   "execution_count": 1,
   "metadata": {},
   "outputs": [],
   "source": [
    "import os, h5py\n",
    "import pandas as pd\n",
    "import numpy as np\n",
    "from osgeo import gdal\n",
    "import matplotlib.pyplot as plt\n",
    "from datetime import datetime\n",
    "import glob\n",
    "import pyproj\n",
    "from sklearn.linear_model import LinearRegression\n",
    "from sklearn.metrics import r2_score"
   ]
  },
  {
   "cell_type": "code",
   "execution_count": null,
   "metadata": {},
   "outputs": [],
   "source": [
    "os.chdir('/home/shashank/Downloads/icesat2/icesat2_data/ATL03/sample_h5_cabo_rojo')\n",
    "f = h5py.File('ATL03_20181028191317_04610101_004_01.h5', 'r')\n",
    "print(f.visit(print))"
   ]
  },
  {
   "cell_type": "code",
   "execution_count": 35,
   "metadata": {},
   "outputs": [
    {
     "name": "stdout",
     "output_type": "stream",
     "text": [
      "1291\n"
     ]
    }
   ],
   "source": [
    "lats = pd.DataFrame(f['gt1r/heights/lat_ph'][:])\n",
    "lons = pd.DataFrame(f['gt1r/heights/lon_ph'][:])\n",
    "h_ph = pd.DataFrame(f['gt1r/heights/h_ph'][:])\n",
    "ph_sig_conf = pd.DataFrame(f['gt1r/heights/signal_conf_ph'][:])\n",
    "seg_id = pd.DataFrame(f['gt1r/geolocation/segment_id'][:])\n",
    "quality_ph = pd.DataFrame(f['gt1r/heights/quality_ph'][:], columns=[\"quality\"]) ## 0 means good\n",
    "\n",
    "df = pd.concat([lats, lons, h_ph, ph_sig_conf.iloc[:,0], seg_id, quality_ph], axis=1)\n",
    "df.columns = [\"lats\",\"lons\", \"h_ph\", \"ph_sig_conf\", \"seg_id\", \"quality_ph\"]\n",
    "df = df[(df[\"lats\"] > 18) & (df[\"lats\"] < 18.2) & (df[\"lons\"] < -66.78) & (df[\"lons\"] > -67.20)].reset_index(drop=True)\n",
    "df = df[df[\"quality_ph\"] == 0].reset_index(drop=True)\n",
    "df = df[df[\"ph_sig_conf\"] == 4].reset_index(drop=True)\n",
    "\n",
    "print(len(df))"
   ]
  },
  {
   "cell_type": "code",
   "execution_count": null,
   "metadata": {},
   "outputs": [],
   "source": []
  }
 ],
 "metadata": {
  "kernelspec": {
   "display_name": "Python 3",
   "language": "python",
   "name": "python3"
  },
  "language_info": {
   "codemirror_mode": {
    "name": "ipython",
    "version": 3
   },
   "file_extension": ".py",
   "mimetype": "text/x-python",
   "name": "python",
   "nbconvert_exporter": "python",
   "pygments_lexer": "ipython3",
   "version": "3.8.3"
  }
 },
 "nbformat": 4,
 "nbformat_minor": 4
}
