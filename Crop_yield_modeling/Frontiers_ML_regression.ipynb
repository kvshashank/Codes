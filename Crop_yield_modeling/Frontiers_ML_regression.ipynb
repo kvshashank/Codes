{
  "nbformat": 4,
  "nbformat_minor": 0,
  "metadata": {
    "kernelspec": {
      "display_name": "Python 2",
      "language": "python",
      "name": "python2"
    },
    "language_info": {
      "codemirror_mode": {
        "name": "ipython",
        "version": 2
      },
      "file_extension": ".py",
      "mimetype": "text/x-python",
      "name": "python",
      "nbconvert_exporter": "python",
      "pygments_lexer": "ipython2",
      "version": "2.7.15+"
    },
    "colab": {
      "name": "Frontiers_ML_regression.ipynb",
      "provenance": []
    }
  },
  "cells": [
    {
      "cell_type": "code",
      "metadata": {
        "id": "AwxQNuGuYD7s"
      },
      "source": [
        "import pandas as pd\n",
        "import numpy as np\n",
        "from sklearn.decomposition import PCA\n",
        "from sklearn.linear_model import LinearRegression\n",
        "from sklearn.linear_model import Ridge\n",
        "from sklearn.model_selection import KFold\n",
        "from sklearn.model_selection import train_test_split\n",
        "from sklearn.metrics import r2_score\n",
        "from sklearn.metrics import mean_squared_error\n",
        "from math import sqrt\n",
        "from sklearn.svm import SVR\n",
        "from sklearn.model_selection import GridSearchCV\n",
        "from sklearn.ensemble import RandomForestRegressor\n",
        "import matplotlib.pyplot as plt"
      ],
      "execution_count": null,
      "outputs": []
    },
    {
      "cell_type": "code",
      "metadata": {
        "id": "pAShEKDzYD7x",
        "colab": {
          "base_uri": "https://localhost:8080/",
          "height": 678
        },
        "outputId": "d8150d2e-0cc9-4fba-880a-208f0ea250c1"
      },
      "source": [
        "##### Find optimal number of principal components #####\n",
        "\n",
        "res = pd.read_csv(\"yields.csv\")\n",
        "res = res[\"Yield\"]\n",
        "\n",
        "pred = pd.read_csv(\"combined_indices.csv\")\n",
        "pred = pred.iloc[:,1:]\n",
        "components = list(range(1,13))\n",
        "pca_all = PCA(n_components=0.999)\n",
        "pca_all.fit(pred)\n",
        "explained_variance = np.cumsum(pca_all.explained_variance_ratio_)\n",
        "\n",
        "fig, ax = plt.subplots(figsize=(7,5))\n",
        "plt.plot(components, explained_variance, '-bo')\n",
        "plt.xlabel('No. of Principal Components', fontsize=15, labelpad=15)\n",
        "plt.ylabel('Cumulative Variance', fontsize=15, labelpad=15)\n",
        "plt.title('Explained Variance Ratio', fontsize=15, pad=15)\n",
        "ax.xaxis.set_tick_params(labelsize=15)\n",
        "ax.yaxis.set_tick_params(labelsize=15)\n",
        "plt.subplots_adjust(left=0.2, bottom=0.2)\n",
        "plt.show()\n",
        "#plt.savefig(\"explained_variance.png\")"
      ],
      "execution_count": null,
      "outputs": [
        {
          "output_type": "error",
          "ename": "ValueError",
          "evalue": "ignored",
          "traceback": [
            "\u001b[0;31m\u001b[0m",
            "\u001b[0;31mValueError\u001b[0mTraceback (most recent call last)",
            "\u001b[0;32m<ipython-input-4-227eefd85dfc>\u001b[0m in \u001b[0;36m<module>\u001b[0;34m()\u001b[0m\n\u001b[1;32m     11\u001b[0m \u001b[0;34m\u001b[0m\u001b[0m\n\u001b[1;32m     12\u001b[0m \u001b[0mfig\u001b[0m\u001b[0;34m,\u001b[0m \u001b[0max\u001b[0m \u001b[0;34m=\u001b[0m \u001b[0mplt\u001b[0m\u001b[0;34m.\u001b[0m\u001b[0msubplots\u001b[0m\u001b[0;34m(\u001b[0m\u001b[0mfigsize\u001b[0m\u001b[0;34m=\u001b[0m\u001b[0;34m(\u001b[0m\u001b[0;36m7\u001b[0m\u001b[0;34m,\u001b[0m\u001b[0;36m5\u001b[0m\u001b[0;34m)\u001b[0m\u001b[0;34m)\u001b[0m\u001b[0;34m\u001b[0m\u001b[0m\n\u001b[0;32m---> 13\u001b[0;31m \u001b[0mplt\u001b[0m\u001b[0;34m.\u001b[0m\u001b[0mplot\u001b[0m\u001b[0;34m(\u001b[0m\u001b[0mcomponents\u001b[0m\u001b[0;34m,\u001b[0m \u001b[0mexplained_variance\u001b[0m\u001b[0;34m,\u001b[0m \u001b[0;34m'-bo'\u001b[0m\u001b[0;34m)\u001b[0m\u001b[0;34m\u001b[0m\u001b[0m\n\u001b[0m\u001b[1;32m     14\u001b[0m \u001b[0mplt\u001b[0m\u001b[0;34m.\u001b[0m\u001b[0mxlabel\u001b[0m\u001b[0;34m(\u001b[0m\u001b[0;34m'No. of Principal Components'\u001b[0m\u001b[0;34m,\u001b[0m \u001b[0mfontsize\u001b[0m\u001b[0;34m=\u001b[0m\u001b[0;36m15\u001b[0m\u001b[0;34m,\u001b[0m \u001b[0mlabelpad\u001b[0m\u001b[0;34m=\u001b[0m\u001b[0;36m15\u001b[0m\u001b[0;34m)\u001b[0m\u001b[0;34m\u001b[0m\u001b[0m\n\u001b[1;32m     15\u001b[0m \u001b[0mplt\u001b[0m\u001b[0;34m.\u001b[0m\u001b[0mylabel\u001b[0m\u001b[0;34m(\u001b[0m\u001b[0;34m'Cumulative Variance'\u001b[0m\u001b[0;34m,\u001b[0m \u001b[0mfontsize\u001b[0m\u001b[0;34m=\u001b[0m\u001b[0;36m15\u001b[0m\u001b[0;34m,\u001b[0m \u001b[0mlabelpad\u001b[0m\u001b[0;34m=\u001b[0m\u001b[0;36m15\u001b[0m\u001b[0;34m)\u001b[0m\u001b[0;34m\u001b[0m\u001b[0m\n",
            "\u001b[0;32m/usr/local/lib/python2.7/dist-packages/matplotlib/pyplot.pyc\u001b[0m in \u001b[0;36mplot\u001b[0;34m(*args, **kwargs)\u001b[0m\n\u001b[1;32m   3361\u001b[0m                       mplDeprecation)\n\u001b[1;32m   3362\u001b[0m     \u001b[0;32mtry\u001b[0m\u001b[0;34m:\u001b[0m\u001b[0;34m\u001b[0m\u001b[0m\n\u001b[0;32m-> 3363\u001b[0;31m         \u001b[0mret\u001b[0m \u001b[0;34m=\u001b[0m \u001b[0max\u001b[0m\u001b[0;34m.\u001b[0m\u001b[0mplot\u001b[0m\u001b[0;34m(\u001b[0m\u001b[0;34m*\u001b[0m\u001b[0margs\u001b[0m\u001b[0;34m,\u001b[0m \u001b[0;34m**\u001b[0m\u001b[0mkwargs\u001b[0m\u001b[0;34m)\u001b[0m\u001b[0;34m\u001b[0m\u001b[0m\n\u001b[0m\u001b[1;32m   3364\u001b[0m     \u001b[0;32mfinally\u001b[0m\u001b[0;34m:\u001b[0m\u001b[0;34m\u001b[0m\u001b[0m\n\u001b[1;32m   3365\u001b[0m         \u001b[0max\u001b[0m\u001b[0;34m.\u001b[0m\u001b[0m_hold\u001b[0m \u001b[0;34m=\u001b[0m \u001b[0mwashold\u001b[0m\u001b[0;34m\u001b[0m\u001b[0m\n",
            "\u001b[0;32m/usr/local/lib/python2.7/dist-packages/matplotlib/__init__.pyc\u001b[0m in \u001b[0;36minner\u001b[0;34m(ax, *args, **kwargs)\u001b[0m\n\u001b[1;32m   1865\u001b[0m                         \u001b[0;34m\"the Matplotlib list!)\"\u001b[0m \u001b[0;34m%\u001b[0m \u001b[0;34m(\u001b[0m\u001b[0mlabel_namer\u001b[0m\u001b[0;34m,\u001b[0m \u001b[0mfunc\u001b[0m\u001b[0;34m.\u001b[0m\u001b[0m__name__\u001b[0m\u001b[0;34m)\u001b[0m\u001b[0;34m,\u001b[0m\u001b[0;34m\u001b[0m\u001b[0m\n\u001b[1;32m   1866\u001b[0m                         RuntimeWarning, stacklevel=2)\n\u001b[0;32m-> 1867\u001b[0;31m             \u001b[0;32mreturn\u001b[0m \u001b[0mfunc\u001b[0m\u001b[0;34m(\u001b[0m\u001b[0max\u001b[0m\u001b[0;34m,\u001b[0m \u001b[0;34m*\u001b[0m\u001b[0margs\u001b[0m\u001b[0;34m,\u001b[0m \u001b[0;34m**\u001b[0m\u001b[0mkwargs\u001b[0m\u001b[0;34m)\u001b[0m\u001b[0;34m\u001b[0m\u001b[0m\n\u001b[0m\u001b[1;32m   1868\u001b[0m \u001b[0;34m\u001b[0m\u001b[0m\n\u001b[1;32m   1869\u001b[0m         inner.__doc__ = _add_data_doc(inner.__doc__,\n",
            "\u001b[0;32m/usr/local/lib/python2.7/dist-packages/matplotlib/axes/_axes.pyc\u001b[0m in \u001b[0;36mplot\u001b[0;34m(self, *args, **kwargs)\u001b[0m\n\u001b[1;32m   1526\u001b[0m         \u001b[0mkwargs\u001b[0m \u001b[0;34m=\u001b[0m \u001b[0mcbook\u001b[0m\u001b[0;34m.\u001b[0m\u001b[0mnormalize_kwargs\u001b[0m\u001b[0;34m(\u001b[0m\u001b[0mkwargs\u001b[0m\u001b[0;34m,\u001b[0m \u001b[0m_alias_map\u001b[0m\u001b[0;34m)\u001b[0m\u001b[0;34m\u001b[0m\u001b[0m\n\u001b[1;32m   1527\u001b[0m \u001b[0;34m\u001b[0m\u001b[0m\n\u001b[0;32m-> 1528\u001b[0;31m         \u001b[0;32mfor\u001b[0m \u001b[0mline\u001b[0m \u001b[0;32min\u001b[0m \u001b[0mself\u001b[0m\u001b[0;34m.\u001b[0m\u001b[0m_get_lines\u001b[0m\u001b[0;34m(\u001b[0m\u001b[0;34m*\u001b[0m\u001b[0margs\u001b[0m\u001b[0;34m,\u001b[0m \u001b[0;34m**\u001b[0m\u001b[0mkwargs\u001b[0m\u001b[0;34m)\u001b[0m\u001b[0;34m:\u001b[0m\u001b[0;34m\u001b[0m\u001b[0m\n\u001b[0m\u001b[1;32m   1529\u001b[0m             \u001b[0mself\u001b[0m\u001b[0;34m.\u001b[0m\u001b[0madd_line\u001b[0m\u001b[0;34m(\u001b[0m\u001b[0mline\u001b[0m\u001b[0;34m)\u001b[0m\u001b[0;34m\u001b[0m\u001b[0m\n\u001b[1;32m   1530\u001b[0m             \u001b[0mlines\u001b[0m\u001b[0;34m.\u001b[0m\u001b[0mappend\u001b[0m\u001b[0;34m(\u001b[0m\u001b[0mline\u001b[0m\u001b[0;34m)\u001b[0m\u001b[0;34m\u001b[0m\u001b[0m\n",
            "\u001b[0;32m/usr/local/lib/python2.7/dist-packages/matplotlib/axes/_base.pyc\u001b[0m in \u001b[0;36m_grab_next_args\u001b[0;34m(self, *args, **kwargs)\u001b[0m\n\u001b[1;32m    404\u001b[0m                 \u001b[0mthis\u001b[0m \u001b[0;34m+=\u001b[0m \u001b[0margs\u001b[0m\u001b[0;34m[\u001b[0m\u001b[0;36m0\u001b[0m\u001b[0;34m]\u001b[0m\u001b[0;34m,\u001b[0m\u001b[0;34m\u001b[0m\u001b[0m\n\u001b[1;32m    405\u001b[0m                 \u001b[0margs\u001b[0m \u001b[0;34m=\u001b[0m \u001b[0margs\u001b[0m\u001b[0;34m[\u001b[0m\u001b[0;36m1\u001b[0m\u001b[0;34m:\u001b[0m\u001b[0;34m]\u001b[0m\u001b[0;34m\u001b[0m\u001b[0m\n\u001b[0;32m--> 406\u001b[0;31m             \u001b[0;32mfor\u001b[0m \u001b[0mseg\u001b[0m \u001b[0;32min\u001b[0m \u001b[0mself\u001b[0m\u001b[0;34m.\u001b[0m\u001b[0m_plot_args\u001b[0m\u001b[0;34m(\u001b[0m\u001b[0mthis\u001b[0m\u001b[0;34m,\u001b[0m \u001b[0mkwargs\u001b[0m\u001b[0;34m)\u001b[0m\u001b[0;34m:\u001b[0m\u001b[0;34m\u001b[0m\u001b[0m\n\u001b[0m\u001b[1;32m    407\u001b[0m                 \u001b[0;32myield\u001b[0m \u001b[0mseg\u001b[0m\u001b[0;34m\u001b[0m\u001b[0m\n\u001b[1;32m    408\u001b[0m \u001b[0;34m\u001b[0m\u001b[0m\n",
            "\u001b[0;32m/usr/local/lib/python2.7/dist-packages/matplotlib/axes/_base.pyc\u001b[0m in \u001b[0;36m_plot_args\u001b[0;34m(self, tup, kwargs)\u001b[0m\n\u001b[1;32m    381\u001b[0m             \u001b[0mx\u001b[0m\u001b[0;34m,\u001b[0m \u001b[0my\u001b[0m \u001b[0;34m=\u001b[0m \u001b[0mindex_of\u001b[0m\u001b[0;34m(\u001b[0m\u001b[0mtup\u001b[0m\u001b[0;34m[\u001b[0m\u001b[0;34m-\u001b[0m\u001b[0;36m1\u001b[0m\u001b[0;34m]\u001b[0m\u001b[0;34m)\u001b[0m\u001b[0;34m\u001b[0m\u001b[0m\n\u001b[1;32m    382\u001b[0m \u001b[0;34m\u001b[0m\u001b[0m\n\u001b[0;32m--> 383\u001b[0;31m         \u001b[0mx\u001b[0m\u001b[0;34m,\u001b[0m \u001b[0my\u001b[0m \u001b[0;34m=\u001b[0m \u001b[0mself\u001b[0m\u001b[0;34m.\u001b[0m\u001b[0m_xy_from_xy\u001b[0m\u001b[0;34m(\u001b[0m\u001b[0mx\u001b[0m\u001b[0;34m,\u001b[0m \u001b[0my\u001b[0m\u001b[0;34m)\u001b[0m\u001b[0;34m\u001b[0m\u001b[0m\n\u001b[0m\u001b[1;32m    384\u001b[0m \u001b[0;34m\u001b[0m\u001b[0m\n\u001b[1;32m    385\u001b[0m         \u001b[0;32mif\u001b[0m \u001b[0mself\u001b[0m\u001b[0;34m.\u001b[0m\u001b[0mcommand\u001b[0m \u001b[0;34m==\u001b[0m \u001b[0;34m'plot'\u001b[0m\u001b[0;34m:\u001b[0m\u001b[0;34m\u001b[0m\u001b[0m\n",
            "\u001b[0;32m/usr/local/lib/python2.7/dist-packages/matplotlib/axes/_base.pyc\u001b[0m in \u001b[0;36m_xy_from_xy\u001b[0;34m(self, x, y)\u001b[0m\n\u001b[1;32m    240\u001b[0m         \u001b[0;32mif\u001b[0m \u001b[0mx\u001b[0m\u001b[0;34m.\u001b[0m\u001b[0mshape\u001b[0m\u001b[0;34m[\u001b[0m\u001b[0;36m0\u001b[0m\u001b[0;34m]\u001b[0m \u001b[0;34m!=\u001b[0m \u001b[0my\u001b[0m\u001b[0;34m.\u001b[0m\u001b[0mshape\u001b[0m\u001b[0;34m[\u001b[0m\u001b[0;36m0\u001b[0m\u001b[0;34m]\u001b[0m\u001b[0;34m:\u001b[0m\u001b[0;34m\u001b[0m\u001b[0m\n\u001b[1;32m    241\u001b[0m             raise ValueError(\"x and y must have same first dimension, but \"\n\u001b[0;32m--> 242\u001b[0;31m                              \"have shapes {} and {}\".format(x.shape, y.shape))\n\u001b[0m\u001b[1;32m    243\u001b[0m         \u001b[0;32mif\u001b[0m \u001b[0mx\u001b[0m\u001b[0;34m.\u001b[0m\u001b[0mndim\u001b[0m \u001b[0;34m>\u001b[0m \u001b[0;36m2\u001b[0m \u001b[0;32mor\u001b[0m \u001b[0my\u001b[0m\u001b[0;34m.\u001b[0m\u001b[0mndim\u001b[0m \u001b[0;34m>\u001b[0m \u001b[0;36m2\u001b[0m\u001b[0;34m:\u001b[0m\u001b[0;34m\u001b[0m\u001b[0m\n\u001b[1;32m    244\u001b[0m             raise ValueError(\"x and y can be no greater than 2-D, but have \"\n",
            "\u001b[0;31mValueError\u001b[0m: x and y must have same first dimension, but have shapes (12,) and (11,)"
          ]
        },
        {
          "output_type": "display_data",
          "data": {
            "image/png": "[encoded data removed]",
            "text/plain": [
              "<Figure size 504x360 with 1 Axes>"
            ]
          },
          "metadata": {
            "tags": [],
            "needs_background": "light"
          }
        }
      ]
    },
    {
      "cell_type": "code",
      "metadata": {
        "id": "nYRWnHknYD73"
      },
      "source": [
        "def prepare_data():\n",
        "   # Import response variable\n",
        "   res = pd.read_csv(\"yield.csv\")\n",
        "   res = res[\"Yield\"]\n",
        "\n",
        "   # Import predictors\n",
        "   pred = pd.read_csv(\"combined_indices.csv\")\n",
        "   pred = pred.iloc[:,1:]\n",
        "\n",
        "   # Concatenate response and predictor dataframes\n",
        "   data = pd.concat([pred,res], axis=1)\n",
        "\n",
        "   # Separate predictors and response again\n",
        "   X = data.iloc[:,:-1]\n",
        "   Y = data.iloc[:,-1]\n",
        "\n",
        "   # Choose 80% of data randomly for training and rest for testing\n",
        "   X_train, X_test, Y_train, Y_test = train_test_split(X, Y, test_size=0.2, random_state=41)\n",
        "\n",
        "   return(X_train, X_test, Y_train, Y_test)\n",
        "\n",
        "def metrics(y_pred, y_test):\n",
        "    r2 = r2_score(y_pred, y_test.to_list())\n",
        "    rmse = sqrt(mean_squared_error(y_pred, y_test.to_list()))\n",
        "    return r2, rmse"
      ],
      "execution_count": null,
      "outputs": []
    },
    {
      "cell_type": "code",
      "metadata": {
        "id": "aLdoqST3YD78"
      },
      "source": [
        "##### Linear Methods ######"
      ],
      "execution_count": null,
      "outputs": []
    },
    {
      "cell_type": "code",
      "metadata": {
        "id": "g2kG9DL-YD8A",
        "outputId": "d2681ff7-0ace-49b7-bc7b-dd02d2462ebe"
      },
      "source": [
        "#### Principal Component Regression #####\n",
        "\n",
        "X_train, X_test, Y_train, Y_test = prepare_data()\n",
        "pca = PCA(n_components=0.95)\n",
        "pca_train = pd.DataFrame(pca.fit_transform(X_train))\n",
        "pca_test = pd.DataFrame(pca.transform(X_test))\n",
        "\n",
        "linear = LinearRegression(fit_intercept=True, normalize=False, copy_X=True)\n",
        "linear.fit(pca_train, Y_train)\n",
        "y_pred = linear.predict(pca_test)\n",
        "\n",
        "r2, rmse = metrics(y_pred, Y_test)\n",
        "print r2, rmse"
      ],
      "execution_count": null,
      "outputs": [
        {
          "output_type": "stream",
          "text": [
            "0.899920257713598 0.327769140332\n"
          ],
          "name": "stdout"
        }
      ]
    },
    {
      "cell_type": "code",
      "metadata": {
        "id": "OAos0vbQYD8F",
        "outputId": "672728a7-bd47-4244-8155-6a7cb57bbdbc"
      },
      "source": [
        "#### Ridge Regression ####\n",
        "alpha_arr = np.arange(0.1,10,0.5)\n",
        "\n",
        "def ridge(alpha, x_train, y_train, x_test):\n",
        "    model = Ridge(alpha = alpha)\n",
        "    model.fit(x_train, y_train)\n",
        "    y_pred = model.predict(x_test)\n",
        "    return y_pred\n",
        "\n",
        "X_train, X_test, Y_train, Y_test = prepare_data()\n",
        "\n",
        "#### Perform k-fold CV. kf_split only produces indices of rows #####\n",
        "kf = KFold(n_splits=5)\n",
        "r2_arr = []\n",
        "rmse_arr = []\n",
        "results = pd.DataFrame([],columns=[\"Alpha\",\"R^2\",\"RMSE\"],index=np.arange(0, len(alpha_arr)))\n",
        "\n",
        "for i in range(0,len(alpha_arr)): \n",
        " for train_indices, test_indices in kf.split(X_train):\n",
        "    x_train = X_train.iloc[train_indices,:].reset_index(drop=True)\n",
        "    y_train = Y_train.iloc[train_indices].reset_index(drop=True)\n",
        "    x_test = X_train.iloc[test_indices,:].reset_index(drop=True)\n",
        "    y_test = Y_train.iloc[test_indices].reset_index(drop=True)\n",
        "    \n",
        "    # Ridge\n",
        "    alpha = alpha_arr[i] \n",
        "    y_pred = ridge(alpha, x_train, y_train, x_test)\n",
        " \n",
        "    # Calculate R^2 and rmse\n",
        "    r2, rmse = metrics(y_pred, y_test)\n",
        "    r2_arr.append(r2)\n",
        "    rmse_arr.append(rmse)\n",
        "    \n",
        " results[\"Alpha\"][i] = alpha\n",
        " results[\"R^2\"][i] = np.mean(r2_arr)\n",
        " results[\"RMSE\"][i] = np.mean(rmse_arr)\n",
        "\n",
        "#### Based on the results, choose alpha = 5\n",
        "#### Get final results\n",
        "alpha=5\n",
        "y_pred = ridge(alpha, X_train, Y_train, X_test)\n",
        "r2, rmse = metrics(y_pred, Y_test)\n",
        "print r2, rmse"
      ],
      "execution_count": null,
      "outputs": [
        {
          "output_type": "stream",
          "text": [
            "0.882382861849851 0.331021067958\n"
          ],
          "name": "stdout"
        }
      ]
    },
    {
      "cell_type": "code",
      "metadata": {
        "id": "wf4mpEq5YD8K"
      },
      "source": [
        "##### Non Linear Methods #####"
      ],
      "execution_count": null,
      "outputs": []
    },
    {
      "cell_type": "code",
      "metadata": {
        "id": "JY-ORzbMYD8O",
        "outputId": "e3b0226a-53e3-48ee-b97b-d8be42d3b7c5"
      },
      "source": [
        "##### Support Vector Regression #####\n",
        "X_train, X_test, Y_train, Y_test = prepare_data()\n",
        "tuned_parameters = [{'kernel':['linear','rbf'], 'C':[0.1, 0.2, 0.3, 0.5, 1, 2, 5, 10], \n",
        "                     'epsilon':[0.01, 0.05, 0.1, 0.2, 0.5]}]\n",
        "grid = GridSearchCV(SVR(), tuned_parameters, cv=5)\n",
        "grid.fit(X_train, Y_train.values.ravel())\n",
        "best_params = grid.best_params_\n",
        "\n",
        "## Get final results\n",
        "model = SVR(kernel=best_params[\"kernel\"], C=best_params[\"C\"], epsilon=best_params[\"epsilon\"])\n",
        "model.fit(X_train, Y_train)\n",
        "Y_pred = model.predict(X_test)\n",
        "r2, rmse = metrics(Y_pred, Y_test)\n",
        "print best_params\n",
        "print r2, rmse"
      ],
      "execution_count": null,
      "outputs": [
        {
          "output_type": "stream",
          "text": [
            "{'epsilon': 0.2, 'C': 0.1, 'kernel': 'linear'}\n",
            "0.8891888035312312 0.330659177012\n"
          ],
          "name": "stdout"
        }
      ]
    },
    {
      "cell_type": "code",
      "metadata": {
        "id": "OjTFldsGYD8T",
        "outputId": "0cf315c9-ca58-42d7-9c00-c8d39cdd6d9e"
      },
      "source": [
        "##### Random Forest Regression #####\n",
        "X_train, X_test, Y_train, Y_test = prepare_data()\n",
        "tuned_parameters = [{'n_estimators':[10,20,50,100,250,500], 'max_features':[\"auto\",\"sqrt\",\"log2\"], \n",
        "                    'min_samples_split':[2,4,6], 'random_state':[100]}]\n",
        "grid = GridSearchCV(RandomForestRegressor(), tuned_parameters, cv=5)\n",
        "grid.fit(X_train, Y_train.values.ravel())\n",
        "best_params = grid.best_params_\n",
        "print best_params\n",
        "model = RandomForestRegressor(n_estimators=best_params[\"n_estimators\"], max_features=best_params[\"max_features\"],\n",
        "                             min_samples_split=best_params[\"min_samples_split\"], random_state=5)\n",
        "model.fit(X_train, Y_train.values.ravel())\n",
        "y_pred = model.predict(X_test)\n",
        "r2, rmse = metrics(y_pred, Y_test)\n",
        "print r2, rmse"
      ],
      "execution_count": null,
      "outputs": [
        {
          "output_type": "stream",
          "text": [
            "{'max_features': 'auto', 'min_samples_split': 2, 'random_state': 100, 'n_estimators': 20}\n",
            "0.9303951830599273 0.257441691032\n",
            "[0.92878654 0.00942086 0.0084738  0.00354312 0.00418719 0.00602454\n",
            " 0.00607116 0.01286564 0.00171019 0.01031302 0.00416758 0.00443638]\n"
          ],
          "name": "stdout"
        }
      ]
    },
    {
      "cell_type": "code",
      "metadata": {
        "id": "jawl6q_9YD8Y"
      },
      "source": [
        ""
      ],
      "execution_count": null,
      "outputs": []
    }
  ]
}