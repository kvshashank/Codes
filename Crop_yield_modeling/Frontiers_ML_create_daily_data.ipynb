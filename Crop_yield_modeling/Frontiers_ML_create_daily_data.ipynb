{
 "cells": [
  {
   "cell_type": "code",
   "execution_count": null,
   "metadata": {},
   "outputs": [],
   "source": [
    "import pandas as pd\n",
    "import numpy as np\n",
    "import os\n",
    "from datetime import datetime, timedelta\n",
    "os.chdir('C:/Users/sds lab/Desktop/class/Machine Learning/project/Data')\n",
    "raw_data=pd.read_csv('Cerro_Gordo_weather_data.csv',sep=',',header=0)\n",
    "\n",
    "# Convert strings to datetime\n",
    "for row in range(0, raw_data.shape[0]):\n",
    "    raw_data.iloc[row,1] = datetime.strptime(raw_data.iloc[row,1],'%Y-%m-%d')"
   ]
  },
  {
   "cell_type": "code",
   "execution_count": null,
   "metadata": {},
   "outputs": [],
   "source": [
    "raw_data_sorted = raw_data.sort_values(by='DATE',axis=0,ascending=True)\n",
    "meaningful_data = pd.DataFrame()\n",
    "# Remove dates outside Growing season\n",
    "years=list(range(1940,2018))\n",
    "for year in years:\n",
    "    start_date = datetime.strptime(str(year) + '-05-10', '%Y-%m-%d')\n",
    "    end_date = datetime.strptime(str(year) + '-10-20', '%Y-%m-%d')\n",
    "    meaningful_data = meaningful_data.append(raw_data_sorted[(raw_data_sorted.iloc[:,1]>=start_date) & (raw_data_sorted.iloc[:,1]<=end_date)], ignore_index=True)"
   ]
  },
  {
   "cell_type": "code",
   "execution_count": null,
   "metadata": {},
   "outputs": [],
   "source": [
    "unique_dates = np.sort(meaningful_data.iloc[:,1].unique())\n",
    "precip=[]\n",
    "tmax=[]\n",
    "tmin=[]\n",
    "for i in range(0, len(unique_dates)):\n",
    "    daily_subset = meaningful_data[meaningful_data.iloc[:,1]==unique_dates[i]]\n",
    "    precip.append(daily_subset.iloc[:,2].mean())\n",
    "    tmax.append(daily_subset.iloc[:,3].mean())\n",
    "    tmin.append(daily_subset.iloc[:,4].mean())\n"
   ]
  },
  {
   "cell_type": "code",
   "execution_count": null,
   "metadata": {},
   "outputs": [],
   "source": [
    "daily_weather = pd.concat([pd.DataFrame(unique_dates), pd.DataFrame(precip), pd.DataFrame(tmax), pd.DataFrame(tmin)], axis=1,ignore_index=True)\n",
    "import matplotlib.pyplot as plt\n",
    "#os.chdir('C:/Users/sds lab/Desktop/class/Machine Learning/project/Data')\n",
    "\n",
    "#daily_weather.to_csv('Cerro_Gordo_daily_weather.csv', sep=',')\n",
    "\n",
    "fig, ax1 = plt.subplots(figsize=(10,5))\n",
    "Tmax, = ax1.plot(daily_weather.iloc[:,0],daily_weather.iloc[:,2],'ro' ,alpha=0.1, label='Daily Max Temp')\n",
    "Tmin, = ax1.plot(daily_weather.iloc[:,0],daily_weather.iloc[:,3], 'bo',alpha=0.1, label='Daily Min Temp')\n",
    "ax2 = ax1.twinx()\n",
    "Pcp, = ax2.plot(daily_weather.iloc[:,0], daily_weather.iloc[:,1], 'go', alpha=0.1, label='Daily Precip')\n",
    "\n",
    "ax1.set_xlabel('Year')\n",
    "ax1.set_ylabel('Daily Min/Max Temp (C)', fontsize=12)\n",
    "ax1.set_title('Time series of daily weather for county', fontsize=14)\n",
    "ax1.xaxis.set_tick_params(labelsize=12)\n",
    "ax1.yaxis.set_tick_params(labelsize=12)\n",
    "ax2.yaxis.set_tick_params(labelsize=12)\n",
    "ax2.set_ylabel('Daily Precip (mm)', fontsize=12)\n",
    "plt.legend(handles=[Tmax, Tmin, Pcp])\n",
    "plt.show()"
   ]
  },
  {
   "cell_type": "code",
   "execution_count": null,
   "metadata": {},
   "outputs": [],
   "source": [
    "import os\n",
    "\n",
    "os.chdir('C:/Users/sds lab/Desktop/class/Machine Learning/project/Data')\n",
    "\n",
    "fig, ax = plt.subplots(figsize=(10,5))\n",
    "corn_yield = pd.read_csv('Cerro_Gordo_crop_yields.csv',sep=',',header=0)\n",
    "plt.plot(corn_yield.iloc[:,0], corn_yield.iloc[:,1], '-bo')\n",
    "plt.ylabel('Corn Yield (bu/acre)', fontsize=12)\n",
    "plt.xlabel('Year', fontsize=12)\n",
    "ax.xaxis.set_tick_params(labelsize=12)\n",
    "ax.yaxis.set_tick_params(labelsize=12)\n",
    "plt.title('Time Series of Corn Yields for the county', fontsize=14)\n",
    "plt.show()"
   ]
  }
 ],
 "metadata": {
  "kernelspec": {
   "display_name": "Python 3",
   "language": "python",
   "name": "python3"
  },
  "language_info": {
   "codemirror_mode": {
    "name": "ipython",
    "version": 3
   },
   "file_extension": ".py",
   "mimetype": "text/x-python",
   "name": "python",
   "nbconvert_exporter": "python",
   "pygments_lexer": "ipython3",
   "version": "3.8.3"
  }
 },
 "nbformat": 4,
 "nbformat_minor": 4
}
